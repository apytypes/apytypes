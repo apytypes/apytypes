{
  "cells": [
    {
      "cell_type": "markdown",
      "metadata": {},
      "source": [
        "\n# cocotb integration\n\nReference models and code for verification can be written swiftly using APyTypes, and incorporated using cocotb.\nBelow is an exhaustive test of an eight-bit floating-point multiplier with round to nearest, ties to even.\n\nBoth source files, ``test_fp8_mul.py`` and ``fp8_multiplier.vhdl``, are available under examples_.\n\n"
      ]
    },
    {
      "cell_type": "code",
      "execution_count": null,
      "metadata": {
        "collapsed": false
      },
      "outputs": [],
      "source": [
        "import os\nimport shutil\nfrom pathlib import Path\n\nimport cocotb\nfrom cocotb.clock import Clock\n\ntry:\n    # cocotb < 2\n    from cocotb.runner import get_runner\nexcept ModuleNotFoundError:\n    # cocotb >= 2\n    from cocotb_tools.runner import get_runner\nfrom cocotb.triggers import FallingEdge\n\nimport apytypes as apy\n\n\n@cocotb.test()\nasync def fp8_mul_test_all(dut) -> None:\n    \"\"\"\n    Exhaustive test of all inputs.\n    \"\"\"\n    EXP_BITS, MAN_BITS = 4, 3\n    fp8_values = apy.fp(\n        range(2 ** (1 + EXP_BITS + MAN_BITS)), exp_bits=EXP_BITS, man_bits=MAN_BITS\n    )\n\n    clock = Clock(dut.clk, 10, units=\"ns\")\n    cocotb.start_soon(clock.start(start_high=False))\n\n    for x in fp8_values:\n        dut.x_in.value = x.to_bits()\n        for y in fp8_values:\n            dut.y_in.value = y.to_bits()\n\n            await FallingEdge(dut.clk)  # Input is set on falling clock edge\n            await FallingEdge(dut.clk)  # Wait another clock cycle for the result\n\n            z_dut = apy.APyFloat.from_bits(\n                int(dut.z_out.value), exp_bits=EXP_BITS, man_bits=MAN_BITS\n            )\n\n            z_ref = x * y\n\n            # If the expected result is NaN, do not test for bit-exact representations\n            if z_ref.is_nan:\n                assert z_dut.is_nan\n            else:\n                assert int(dut.z_out.value) == z_ref.to_bits(), (\n                    f\"{z_dut!r}({z_dut}) == {z_ref!r}({z_ref})\\n{x=}({x}), {y=}({y})\"\n                )"
      ]
    },
    {
      "cell_type": "markdown",
      "metadata": {},
      "source": [
        "The rest of the testbench is set up as one would normally do using cocotb.\n\n"
      ]
    },
    {
      "cell_type": "code",
      "execution_count": null,
      "metadata": {
        "collapsed": false
      },
      "outputs": [],
      "source": [
        "def test_fp8_mul() -> None:\n    \"\"\"\n    Simulate the floating-point multiplier using the Python runner.\n\n    This file can be run directly or via pytest discovery.\n    \"\"\"\n    sim = os.getenv(\"SIM\", \"nvc\")\n\n    dir_path = (\n        Path(__file__).resolve().parent if \"__file__\" in globals() else Path.cwd()\n    )\n    sources = [f\"{dir_path}/fp8_multiplier.vhdl\"]\n\n    runner = get_runner(sim)\n    runner.build(\n        sources=sources,\n        hdl_toplevel=\"fp8_multiplier\",\n    )\n\n    runner.test(hdl_toplevel=\"fp8_multiplier\", test_module=\"test_fp8_mul\")\n\n\nif __name__ == \"__main__\":\n    if shutil.which(\"nvc\"):\n        test_fp8_mul()\n    else:\n        print(\"NVC not found\")"
      ]
    },
    {
      "cell_type": "markdown",
      "metadata": {},
      "source": [
        "The contents of ``fp8_multiplier.vhdl`` is shown below.\n\n.. literalinclude:: ../../examples/fp8_multiplier.vhdl\n  :language: vhdl\n\n"
      ]
    }
  ],
  "metadata": {
    "kernelspec": {
      "display_name": "Python 3",
      "language": "python",
      "name": "python3"
    },
    "language_info": {
      "codemirror_mode": {
        "name": "ipython",
        "version": 3
      },
      "file_extension": ".py",
      "mimetype": "text/x-python",
      "name": "python",
      "nbconvert_exporter": "python",
      "pygments_lexer": "ipython3",
      "version": "3.12.12"
    }
  },
  "nbformat": 4,
  "nbformat_minor": 0
}