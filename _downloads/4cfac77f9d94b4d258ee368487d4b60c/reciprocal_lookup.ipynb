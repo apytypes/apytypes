{
  "cells": [
    {
      "cell_type": "markdown",
      "metadata": {},
      "source": [
        "\n# Reciprocal lookup table\n\nIn this example a lookup table for floating-point reciprocals is designed,\nassuming that each bit is implemented using an N-\u00ednput LUT, suitable for FPGA, and\nsingle-precision floating-point representation.\n"
      ]
    },
    {
      "cell_type": "code",
      "execution_count": null,
      "metadata": {
        "collapsed": false
      },
      "outputs": [],
      "source": [
        "import apytypes as apy\nimport numpy as np\nimport matplotlib.pyplot as plt\n\nN = 6\nWL = 9\n\nstep = apy.APyFixed(1, 3, N)\nr = apy.arange(1, 2 + 2**-6, step=step)\n\ntable = apy.zeros((2**6,), 1, WL)\nfloat_table = []\nfor i in range(2**6):\n    start = float(r[i])\n    stop = float(r[i + 1])\n\n    meanreciprocal = (1 / start + 1 / stop) / 2\n    float_table.append(meanreciprocal)\n    table[i] = apy.fx(meanreciprocal, 1, WL)"
      ]
    },
    {
      "cell_type": "markdown",
      "metadata": {},
      "source": [
        "Print the resulting table\n\n"
      ]
    },
    {
      "cell_type": "code",
      "execution_count": null,
      "metadata": {
        "collapsed": false
      },
      "outputs": [],
      "source": [
        "fstring = f\"{{:{WL}b}}\"\nfor b in table.to_bits():\n    print(fstring.format(b))"
      ]
    },
    {
      "cell_type": "markdown",
      "metadata": {},
      "source": [
        "Plot the approximation, with and without fixed-point values\n\n"
      ]
    },
    {
      "cell_type": "code",
      "execution_count": null,
      "metadata": {
        "collapsed": false
      },
      "outputs": [],
      "source": [
        "f = np.linspace(1, 2, 10000)\nfig, ax = plt.subplots()\n\nax.plot(f, 1 / f)\nax.step(r[:-1], table, where=\"post\")\nax.step(r[:-1], float_table, where=\"post\")\nax.stairs(table.to_numpy(), r.to_numpy())\nax.stairs(float_table, r.to_numpy())\nax.set_title(\"Function and approximation values\")\nplt.show()"
      ]
    },
    {
      "cell_type": "markdown",
      "metadata": {},
      "source": [
        "Compute seed error and after one Newton-Raphson iteration\n\n"
      ]
    },
    {
      "cell_type": "code",
      "execution_count": null,
      "metadata": {
        "collapsed": false
      },
      "outputs": [],
      "source": [
        "points = 10000\n\n\ndef eval_seed(x, table):\n    table_row = x.man >> (23 - N)  # N most significant bits of x\n    new_exp = 253 - x.exp\n    new_man = (table[table_row].to_bits() & ((1 << (WL - 1)) - 1)) << (23 - WL + 1)\n    res = apy.APyFloat(x.sign, new_exp, new_man, 8, 23)\n    return res\n\n\nfval = np.linspace(1, 2, points)\nseed_table = apy.zeros((points,), exp_bits=8, man_bits=23)\nnr_table = apy.zeros((points,), exp_bits=8, man_bits=23)\n\nfor i in range(points):\n    x = apy.fp(fval[i], 8, 23)\n    seed = eval_seed(x, table)\n    seed_table[i] = seed\n    # Perform one Newton-Raphson iteration\n    refined = seed + seed * (1 - seed * x)\n    nr_table[i] = refined"
      ]
    },
    {
      "cell_type": "markdown",
      "metadata": {},
      "source": [
        "Plot resulting errors\n\n"
      ]
    },
    {
      "cell_type": "code",
      "execution_count": null,
      "metadata": {
        "collapsed": false
      },
      "outputs": [],
      "source": [
        "fig, ax = plt.subplots()\nax.plot(fval, 1 / fval - seed_table, label=\"Seed error\")\nax.plot(fval, 1 / fval - nr_table, label=\"Error after one Newton-Raphson iteration\")\nax.set_yscale(\"symlog\", linthresh=2**-23)\nax.legend()\nax.set_title(\"Approximation errors\")\nplt.show()"
      ]
    }
  ],
  "metadata": {
    "kernelspec": {
      "display_name": "Python 3",
      "language": "python",
      "name": "python3"
    },
    "language_info": {
      "codemirror_mode": {
        "name": "ipython",
        "version": 3
      },
      "file_extension": ".py",
      "mimetype": "text/x-python",
      "name": "python",
      "nbconvert_exporter": "python",
      "pygments_lexer": "ipython3",
      "version": "3.10.16"
    }
  },
  "nbformat": 4,
  "nbformat_minor": 0
}