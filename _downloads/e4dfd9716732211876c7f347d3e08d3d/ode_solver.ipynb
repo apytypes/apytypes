{
  "cells": [
    {
      "cell_type": "markdown",
      "metadata": {},
      "source": [
        "\n# Floating-point ODE solver\n\nThis illustrates the effect of solving an ODE with forward Euler\nusing different floating-point formats and different quantization schemes.\n\nThe ODE in question is\n\n\\begin{align}u'(t) = v(t), \\quad u(0) = 1,\n\n   v'(t) = -u(t), \\quad v(0) = 0,\\end{align}\n\nand the solution is the unit circle in the (u, v) plane.\n\n(Example inspired from M. Croci, M. Fasi, N. J Higham, T. Mary, M. Mikaitis. \"Stochastic Rounding: Implementation, Error Analysis, and Applications\", in *Royal Society Open Science*, 2022.)\n"
      ]
    },
    {
      "cell_type": "code",
      "execution_count": null,
      "metadata": {
        "collapsed": false
      },
      "outputs": [],
      "source": [
        "import math\n\nimport matplotlib.pyplot as plt\n\nimport apytypes as apy\n\n\ndef solve_ode(exp_bits, man_bits, bias, iterations=2**14):\n    h = 2 * math.pi / iterations\n    ode = apy.fp([[0, h], [-h, 0]], exp_bits, man_bits, bias)\n    current_value = apy.fp([1, 0], exp_bits, man_bits, bias)\n    results = apy.zeros(\n        (iterations + 1, 2), exp_bits=exp_bits, man_bits=man_bits, bias=bias\n    )\n\n    results[0, :] = current_value\n    for i in range(iterations):\n        current_value += ode @ current_value\n        results[i + 1, :] = current_value\n    return results\n\n\nfig, ax = plt.subplots()\n\n# Floating-point configurations: (exp_bits, man_bits, bias, quantization)\n# Note: when the bias is set to None, it defaults to an IEEE-like bias\nfp_formats = [\n    (8, 23, None, \"TIES_EVEN\"),\n    (5, 10, None, \"TIES_EVEN\"),\n    (5, 10, None, \"TO_ZERO\"),\n    (5, 10, None, \"STOCH_WEIGHTED\"),\n    (5, 10, None, \"STOCH_EQUAL\"),\n    (4, 6, 11, \"STOCH_WEIGHTED\"),\n]\n\nfor exp_bits, man_bits, bias, mode in fp_formats:\n    with apy.APyFloatQuantizationContext(eval(f\"apy.QuantizationMode.{mode}\"), seed=12):\n        results = solve_ode(exp_bits, man_bits, bias)\n    ax.plot(results[:, 0], results[:, 1], label=f\"E{exp_bits}M{man_bits} ({mode})\")\n\nax.set_aspect(\"equal\")\nfig.legend(ncols=2, loc=\"upper center\")\nplt.show()"
      ]
    }
  ],
  "metadata": {
    "kernelspec": {
      "display_name": "Python 3",
      "language": "python",
      "name": "python3"
    },
    "language_info": {
      "codemirror_mode": {
        "name": "ipython",
        "version": 3
      },
      "file_extension": ".py",
      "mimetype": "text/x-python",
      "name": "python",
      "nbconvert_exporter": "python",
      "pygments_lexer": "ipython3",
      "version": "3.12.11"
    }
  },
  "nbformat": 4,
  "nbformat_minor": 0
}