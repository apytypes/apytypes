{
  "cells": [
    {
      "cell_type": "markdown",
      "metadata": {},
      "source": [
        "\n# Approximate floating-point multiplication\n\nThis example compares an approximate floating-point multiplication to the mathematically correct result.\nThe approximation is based on Mitchell's logarithm approximation and the reference is the unquantized result.\n\n(Example inspired from T. Lindberg and O. Gustafsson, \"Exact Eight-Bit Floating-Point Multiplication Using Integer Arithmetic\", in *Proc. Asilomar Conf. Signals Syst. Comput.*, 2025.)\n"
      ]
    },
    {
      "cell_type": "code",
      "execution_count": null,
      "metadata": {
        "collapsed": false
      },
      "outputs": [],
      "source": [
        "import matplotlib.pyplot as plt\nfrom matplotlib import ticker\n\nimport apytypes as apy\n\nEXP_BITS, MAN_BITS = (4, 3)\n\ninput_values = apy.fullrange(1, 2, exp_bits=EXP_BITS, man_bits=MAN_BITS)\n\nxx, yy = apy.meshgrid(input_values, input_values)\n\n# Calculate the reference using a format wide enough to capture the exact result\nref = xx.cast(EXP_BITS, 2 * MAN_BITS) * yy\n\n\ndef approx_mul(x, y):\n    return apy.APyFloat.from_bits(\n        x.to_bits() + y.to_bits() - (x.bias << x.man_bits), EXP_BITS, MAN_BITS\n    )\n\n\nresult = apy.zeros_like(ref, exp_bits=EXP_BITS, man_bits=MAN_BITS)\nfor xi, x in enumerate(input_values):\n    for yi, y in enumerate(input_values):\n        result[xi, yi] = approx_mul(x, y)\n\nerror = result - ref"
      ]
    },
    {
      "cell_type": "markdown",
      "metadata": {},
      "source": [
        "Plot the results\n\n"
      ]
    },
    {
      "cell_type": "code",
      "execution_count": null,
      "metadata": {
        "collapsed": false
      },
      "outputs": [],
      "source": [
        "fig, ax = plt.subplots()\n\nax.set_xlabel(r\"$x$\")\nax.set_ylabel(r\"$y$\")\nax.set_aspect(\"equal\")\n\nax.xaxis.set_major_locator(ticker.MultipleLocator(2 * 2**-MAN_BITS))\nax.yaxis.set_major_locator(ticker.MultipleLocator(2 * 2**-MAN_BITS))\n\npcol = ax.pcolormesh(xx, yy, error, ec=\"k\", lw=0.1, cmap=\"Blues_r\")\ncbar = fig.colorbar(pcol)\ncbar.ax.set_title(\"Error\")\n\nplt.show()"
      ]
    }
  ],
  "metadata": {
    "kernelspec": {
      "display_name": "Python 3",
      "language": "python",
      "name": "python3"
    },
    "language_info": {
      "codemirror_mode": {
        "name": "ipython",
        "version": 3
      },
      "file_extension": ".py",
      "mimetype": "text/x-python",
      "name": "python",
      "nbconvert_exporter": "python",
      "pygments_lexer": "ipython3",
      "version": "3.12.11"
    }
  },
  "nbformat": 4,
  "nbformat_minor": 0
}