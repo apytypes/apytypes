{
  "cells": [
    {
      "cell_type": "markdown",
      "metadata": {},
      "source": [
        "\n# Fixed-point vector rotation\n\nThis illustrates the effect of performing a vector rotation\nusing different number of fractional bits and different quantization schemes.\n"
      ]
    },
    {
      "cell_type": "code",
      "execution_count": null,
      "metadata": {
        "collapsed": false
      },
      "outputs": [],
      "source": [
        "import math\n\nimport matplotlib.pyplot as plt\nimport numpy as np\n\nimport apytypes as apy\n\nangle = 0.003\n\n\ndef print_rotation_properties(angle, frac_bits):\n    cosa = math.cos(angle)\n    sina = math.sin(angle)\n    rotation_matrix = apy.fx([[cosa, -sina], [sina, cosa]], 2, frac_bits)\n    rm = rotation_matrix.to_numpy()\n    print(\n        f\"{frac_bits} fractional bits. Gain: {np.hypot(*rm[0, :])}. Angle: {np.arctan2(*rm[1, :])}.\"\n    )\n\n\ndef rotate(angle, frac_bits, iterations, quantization):\n    results = apy.zeros((iterations + 1, 2), int_bits=2, frac_bits=frac_bits)\n    cosa = math.cos(angle)\n    sina = math.sin(angle)\n    rotation_matrix = apy.fx([[cosa, -sina], [sina, cosa]], 2, frac_bits)\n    current_value = apy.fx([1, 0], 2, frac_bits)\n\n    results[0, :] = current_value.T\n    for i in range(iterations):\n        tmp_res = rotation_matrix @ current_value\n        current_value = tmp_res.cast(2, frac_bits, quantization)\n        results[i + 1, :] = current_value.T\n\n    return results\n\n\nfig, ax = plt.subplots()\n\nfor frac_bits in (8, 12, 16):\n    print_rotation_properties(angle, frac_bits)\n    for quantization in (\n        \"RND\",\n        \"JAM\",\n        \"TRN\",\n    ):\n        results = rotate(\n            angle, frac_bits, 3000, eval(f\"apy.QuantizationMode.{quantization}\")\n        )\n        ax.plot(\n            results[:, 0],\n            results[:, 1],\n            label=f\"{frac_bits} frac. bits, {quantization}\",\n        )\n\nax.set_aspect(\"equal\")\nfig.legend(ncols=3, loc=\"upper center\")\nplt.show()"
      ]
    }
  ],
  "metadata": {
    "kernelspec": {
      "display_name": "Python 3",
      "language": "python",
      "name": "python3"
    },
    "language_info": {
      "codemirror_mode": {
        "name": "ipython",
        "version": 3
      },
      "file_extension": ".py",
      "mimetype": "text/x-python",
      "name": "python",
      "nbconvert_exporter": "python",
      "pygments_lexer": "ipython3",
      "version": "3.10.17"
    }
  },
  "nbformat": 4,
  "nbformat_minor": 0
}