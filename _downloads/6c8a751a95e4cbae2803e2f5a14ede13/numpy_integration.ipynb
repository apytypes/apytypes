{
  "cells": [
    {
      "cell_type": "markdown",
      "metadata": {},
      "source": [
        "\n# NumPy integration\n\nIt is possible to easily go between numpy and apytypes and therefore also use plotting tools like Matplotlib in an integrated manner.\n\nConsider the example from https://docs.scipy.org/doc/scipy/reference/generated/scipy.signal.convolve.html implemented using fixed-point arithmetic\n"
      ]
    },
    {
      "cell_type": "code",
      "execution_count": null,
      "metadata": {
        "collapsed": false
      },
      "outputs": [],
      "source": [
        "import numpy as np\nfrom scipy import signal\nimport apytypes as apy\nimport matplotlib.pyplot as plt\n\nsig = np.repeat([0.0, 1.0, 0.0], 100)\nsig_fx = apy.fx(sig, bits=12, int_bits=2)\n\nwin = signal.windows.hann(50)\nwin_fx = apy.fx(win, bits=10, int_bits=2)\n\nfiltered = signal.convolve(sig, win, mode=\"same\") / sum(win)\nfiltered_fx = apy.convolve(sig_fx, win_fx, mode=\"same\") / sum(win_fx)"
      ]
    },
    {
      "cell_type": "markdown",
      "metadata": {},
      "source": [
        "The results can then be plotted in Matplotlib\n\n"
      ]
    },
    {
      "cell_type": "code",
      "execution_count": null,
      "metadata": {
        "collapsed": false
      },
      "outputs": [],
      "source": [
        "fig, (ax_orig, ax_win, ax_filt) = plt.subplots(3, 1, sharex=True)\nax_orig.plot(sig)\nax_orig.plot(sig_fx)\nax_orig.set_title(\"Original pulse\")\nax_orig.margins(0, 0.1)\nax_win.plot(win)\nax_win.plot(win_fx)\nax_win.set_title(\"Filter impulse response\")\nax_win.margins(0, 0.1)\nax_filt.plot(filtered)\nax_filt.plot(filtered_fx)\nax_filt.set_title(\"Filtered signal\")\nax_filt.margins(0, 0.1)\nfig.tight_layout()\nfig.show()"
      ]
    }
  ],
  "metadata": {
    "kernelspec": {
      "display_name": "Python 3",
      "language": "python",
      "name": "python3"
    },
    "language_info": {
      "codemirror_mode": {
        "name": "ipython",
        "version": 3
      },
      "file_extension": ".py",
      "mimetype": "text/x-python",
      "name": "python",
      "nbconvert_exporter": "python",
      "pygments_lexer": "ipython3",
      "version": "3.10.16"
    }
  },
  "nbformat": 4,
  "nbformat_minor": 0
}